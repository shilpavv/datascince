{
  "nbformat": 4,
  "nbformat_minor": 0,
  "metadata": {
    "colab": {
      "name": "sum.ipynb",
      "provenance": [],
      "authorship_tag": "ABX9TyP5tGSPT9UduWYeNME1sLV9",
      "include_colab_link": true
    },
    "kernelspec": {
      "name": "python3",
      "display_name": "Python 3"
    },
    "language_info": {
      "name": "python"
    }
  },
  "cells": [
    {
      "cell_type": "markdown",
      "metadata": {
        "id": "view-in-github",
        "colab_type": "text"
      },
      "source": [
        "<a href=\"https://colab.research.google.com/github/shilpavv/datascince/blob/master/sum.ipynb\" target=\"_parent\"><img src=\"https://colab.research.google.com/assets/colab-badge.svg\" alt=\"Open In Colab\"/></a>"
      ]
    },
    {
      "cell_type": "code",
      "metadata": {
        "colab": {
          "base_uri": "https://localhost:8080/"
        },
        "id": "-XBkxZR-9xBw",
        "outputId": "7be042f0-ae3f-49d9-d6a2-97093b4217e6"
      },
      "source": [
        "a=10\n",
        "b=6\n",
        "c=a+b\n",
        "print(c)"
      ],
      "execution_count": null,
      "outputs": [
        {
          "output_type": "stream",
          "name": "stdout",
          "text": [
            "16\n"
          ]
        }
      ]
    },
    {
      "cell_type": "code",
      "metadata": {
        "colab": {
          "base_uri": "https://localhost:8080/"
        },
        "id": "kZTuW166-XIY",
        "outputId": "b7fee49a-4137-471b-e41d-73e2d1fae220"
      },
      "source": [
        "n=1234\n",
        "rev=0\n",
        "while(n>0) :\n",
        "  rem=n%10\n",
        "  rev=rev*10+rem\n",
        "  n=n//10\n",
        "print(rev)\n",
        "\n"
      ],
      "execution_count": null,
      "outputs": [
        {
          "output_type": "stream",
          "name": "stdout",
          "text": [
            "4321\n"
          ]
        }
      ]
    },
    {
      "cell_type": "code",
      "metadata": {
        "colab": {
          "base_uri": "https://localhost:8080/"
        },
        "id": "y_YHsqo9_zks",
        "outputId": "b388d217-54a2-4942-d768-166147787eda"
      },
      "source": [
        "n=int(input(\"enter a number\"))\n",
        "if n>0:\n",
        "  print(\"n is positive\",n)\n",
        "else:\n",
        "  print(\"n is negative\",n)"
      ],
      "execution_count": null,
      "outputs": [
        {
          "output_type": "stream",
          "name": "stdout",
          "text": [
            "enter a number-1\n",
            "n is negative -1\n"
          ]
        }
      ]
    },
    {
      "cell_type": "code",
      "metadata": {
        "colab": {
          "base_uri": "https://localhost:8080/"
        },
        "id": "hxuP80JFCM2i",
        "outputId": "54dd66a5-9fda-464e-bd1e-8abaa99a516d"
      },
      "source": [
        "n=int(input(\"enter a number\"))\n",
        "count=0\n",
        "while(n>0):\n",
        "  n=n//10\n",
        "  count=count+1\n",
        "print(count)"
      ],
      "execution_count": null,
      "outputs": [
        {
          "output_type": "stream",
          "name": "stdout",
          "text": [
            "enter a number123\n",
            "3\n"
          ]
        }
      ]
    },
    {
      "cell_type": "code",
      "metadata": {
        "colab": {
          "base_uri": "https://localhost:8080/"
        },
        "id": "m1hfvQ1LDJW1",
        "outputId": "9f7a9d02-a28f-450b-c3f4-970f758ddca8"
      },
      "source": [
        "n=12321\n",
        "rev=0\n",
        "temp=n\n",
        "while(n>0) :\n",
        "  rem=n%10\n",
        "  rev=rev*10+rem\n",
        "  n=n//10\n",
        "if(temp==rev):\n",
        "  print(rev,\"is palindrome\")\n",
        "else:\n",
        "  print(rev, \"is not palindrome\")"
      ],
      "execution_count": null,
      "outputs": [
        {
          "output_type": "stream",
          "name": "stdout",
          "text": [
            "12321 is palindrome\n"
          ]
        }
      ]
    },
    {
      "cell_type": "code",
      "metadata": {
        "colab": {
          "base_uri": "https://localhost:8080/"
        },
        "id": "qhbma2mZIx7u",
        "outputId": "eb102e6d-346f-4101-a45f-980322fefd25"
      },
      "source": [
        "r=int(input(\"enter the radius\"))\n",
        "area=3.14*r*r\n",
        "peri=2*3.14*r\n",
        "print(\"area of circle is\",area)\n",
        "print(\"perimeter of circle is\",peri)"
      ],
      "execution_count": null,
      "outputs": [
        {
          "output_type": "stream",
          "name": "stdout",
          "text": [
            "enter the radius3\n",
            "area of circle is 28.259999999999998\n",
            "perimeter of circle is 18.84\n"
          ]
        }
      ]
    },
    {
      "cell_type": "code",
      "metadata": {
        "colab": {
          "base_uri": "https://localhost:8080/"
        },
        "id": "SxfV32KCLYI4",
        "outputId": "40cdb948-94d7-4efc-fa22-5e13d994ddf6"
      },
      "source": [
        "a=10\n",
        "b=20\n",
        "c=50\n",
        "if(a>b & a>c):\n",
        "   print(a,\" is largest\")\n",
        "elif(b>a & b>c):\n",
        "  print(b,\"is largest\")\n",
        "else:\n",
        "  print(c,\"is largest\")"
      ],
      "execution_count": null,
      "outputs": [
        {
          "output_type": "stream",
          "name": "stdout",
          "text": [
            "50 is largest\n"
          ]
        }
      ]
    },
    {
      "cell_type": "code",
      "metadata": {
        "colab": {
          "base_uri": "https://localhost:8080/"
        },
        "id": "KROKRXLtM4H5",
        "outputId": "5c743e1f-7b39-4430-8d0f-d6e299dc292e"
      },
      "source": [
        "n=input(\"enter the separated numbers\")\n",
        "list=n.split(\",\")\n",
        "tuple=tuple(list)\n",
        "print(list,\"list\")\n",
        "print(tuple,\"tuple\")"
      ],
      "execution_count": 1,
      "outputs": [
        {
          "output_type": "stream",
          "name": "stdout",
          "text": [
            "enter the separated numbers34 44\n",
            "['34 44'] list\n",
            "('34 44',) tuple\n"
          ]
        }
      ]
    },
    {
      "cell_type": "code",
      "metadata": {
        "colab": {
          "base_uri": "https://localhost:8080/"
        },
        "id": "WlrCmkAoSYMo",
        "outputId": "77a66e6e-0f36-4a82-d349-6c5a645b6512"
      },
      "source": [
        "l=input(\"enter the numnber\")\n",
        "print(\"first element\",l[0])\n",
        "print(\"first element\",l[-1])"
      ],
      "execution_count": 2,
      "outputs": [
        {
          "output_type": "stream",
          "name": "stdout",
          "text": [
            "enter the numnber3\n",
            "first element 3\n",
            "first element 3\n"
          ]
        }
      ]
    }
  ]
}