{
  "nbformat": 4,
  "nbformat_minor": 0,
  "metadata": {
    "colab": {
      "name": "Untitled6.ipynb",
      "provenance": [],
      "authorship_tag": "ABX9TyO8Gwf+Bb6hBAiUdIhbt9gc",
      "include_colab_link": true
    },
    "kernelspec": {
      "name": "python3",
      "display_name": "Python 3"
    },
    "language_info": {
      "name": "python"
    }
  },
  "cells": [
    {
      "cell_type": "markdown",
      "metadata": {
        "id": "view-in-github",
        "colab_type": "text"
      },
      "source": [
        "<a href=\"https://colab.research.google.com/github/shilpavv/datascince/blob/master/Untitled6.ipynb\" target=\"_parent\"><img src=\"https://colab.research.google.com/assets/colab-badge.svg\" alt=\"Open In Colab\"/></a>"
      ]
    },
    {
      "cell_type": "code",
      "execution_count": 2,
      "metadata": {
        "colab": {
          "base_uri": "https://localhost:8080/"
        },
        "id": "w-xedIJAamHL",
        "outputId": "decb9c7b-fd89-48b9-d269-9da961c6a609"
      },
      "outputs": [
        {
          "output_type": "stream",
          "name": "stdout",
          "text": [
            "The element wise multiplication of matrix is : \n",
            "[[ 7 16]\n",
            " [36 50]]\n"
          ]
        }
      ],
      "source": [
        "# Python code to demonstrate matrix operations\n",
        "# multiply() and dot()\n",
        "# importing numpy for matrix operations\n",
        "import numpy\n",
        "# initializing matrices\n",
        "x = numpy.array([[1, 2], [4, 5]])\n",
        "y = numpy.array([[7, 8], [9, 10]])\n",
        "# using multiply() to multiply matrices element wise\n",
        "print (\"The element wise multiplication of matrix is : \")\n",
        "print (numpy.multiply(x,y))"
      ]
    },
    {
      "cell_type": "code",
      "source": [
        "# using dot() to multiply matrices\n",
        "print (\"The product of matrices is : \")\n",
        "print (numpy.dot(x,y))\n"
      ],
      "metadata": {
        "colab": {
          "base_uri": "https://localhost:8080/"
        },
        "id": "-544mBphbAzl",
        "outputId": "23d99add-8d21-4205-ebd6-ae3847178b61"
      },
      "execution_count": 3,
      "outputs": [
        {
          "output_type": "stream",
          "name": "stdout",
          "text": [
            "The product of matrices is : \n",
            "[[25 28]\n",
            " [73 82]]\n"
          ]
        }
      ]
    },
    {
      "cell_type": "code",
      "source": [
        "# using \"T\" to transpose the matrix\n",
        "\n",
        "print(\"Given matrix:\")\n",
        "print(x)\n",
        "print (\"The transpose of given matrix is : \")\n",
        "print (x.T)"
      ],
      "metadata": {
        "colab": {
          "base_uri": "https://localhost:8080/"
        },
        "id": "o8xBiTW-bGrS",
        "outputId": "493e7ed0-821f-48cf-ee00-d34627c5e3b4"
      },
      "execution_count": 4,
      "outputs": [
        {
          "output_type": "stream",
          "name": "stdout",
          "text": [
            "Given matrix:\n",
            "[[1 2]\n",
            " [4 5]]\n",
            "The transpose of given matrix is : \n",
            "[[1 4]\n",
            " [2 5]]\n"
          ]
        }
      ]
    },
    {
      "cell_type": "code",
      "source": [
        "# using \"trace\" to find trace of the matrix\n",
        "print (\"The trace of given matrix is : \")\n",
        "print (x.trace())\n"
      ],
      "metadata": {
        "colab": {
          "base_uri": "https://localhost:8080/"
        },
        "id": "hW-k_WJSbNuc",
        "outputId": "612f595f-b9a1-4328-e5f6-e5ff97b91d43"
      },
      "execution_count": 5,
      "outputs": [
        {
          "output_type": "stream",
          "name": "stdout",
          "text": [
            "The trace of given matrix is : \n",
            "6\n"
          ]
        }
      ]
    },
    {
      "cell_type": "code",
      "source": [
        "#Rank of matrix\n",
        "print(numpy.linalg.matrix_rank(x))"
      ],
      "metadata": {
        "colab": {
          "base_uri": "https://localhost:8080/"
        },
        "id": "fDFRiVMDbTo6",
        "outputId": "05f9f286-ef56-4580-9a7a-fe46e32884f8"
      },
      "execution_count": 6,
      "outputs": [
        {
          "output_type": "stream",
          "name": "stdout",
          "text": [
            "2\n"
          ]
        }
      ]
    },
    {
      "cell_type": "code",
      "source": [
        "#Determinant of matrix\n",
        "print(numpy.linalg.det(x))\n",
        "\n",
        "#Inverse of matrix\n",
        "print(numpy.linalg.inv(x))\n",
        "\n",
        "#Eigen values of matrix\n",
        "print(numpy.linalg.eig(x))"
      ],
      "metadata": {
        "colab": {
          "base_uri": "https://localhost:8080/"
        },
        "id": "uuBHfYnkbYxx",
        "outputId": "e56a0ce2-18df-4b67-f3c3-eed6a6543500"
      },
      "execution_count": 7,
      "outputs": [
        {
          "output_type": "stream",
          "name": "stdout",
          "text": [
            "-2.9999999999999996\n",
            "[[-1.66666667  0.66666667]\n",
            " [ 1.33333333 -0.33333333]]\n",
            "(array([-0.46410162,  6.46410162]), array([[-0.80689822, -0.34372377],\n",
            "       [ 0.59069049, -0.9390708 ]]))\n"
          ]
        }
      ]
    }
  ]
}
