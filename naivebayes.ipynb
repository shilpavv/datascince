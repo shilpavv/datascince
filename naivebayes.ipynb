{
  "nbformat": 4,
  "nbformat_minor": 0,
  "metadata": {
    "colab": {
      "name": "naivebayes.ipynb",
      "provenance": [],
      "authorship_tag": "ABX9TyPw0JnrjA2B6IQjH/tgz860",
      "include_colab_link": true
    },
    "kernelspec": {
      "name": "python3",
      "display_name": "Python 3"
    },
    "language_info": {
      "name": "python"
    }
  },
  "cells": [
    {
      "cell_type": "markdown",
      "metadata": {
        "id": "view-in-github",
        "colab_type": "text"
      },
      "source": [
        "<a href=\"https://colab.research.google.com/github/shilpavv/datascince/blob/master/naivebayes.ipynb\" target=\"_parent\"><img src=\"https://colab.research.google.com/assets/colab-badge.svg\" alt=\"Open In Colab\"/></a>"
      ]
    },
    {
      "cell_type": "code",
      "execution_count": null,
      "metadata": {
        "id": "tajQhNXGtY2R",
        "colab": {
          "base_uri": "https://localhost:8080/"
        },
        "outputId": "7cddac9c-b556-4d09-f228-03e7587db672"
      },
      "outputs": [
        {
          "output_type": "stream",
          "name": "stdout",
          "text": [
            "Accuracy 0.9333333333333333\n"
          ]
        }
      ],
      "source": [
        "from sklearn.datasets import load_iris\n",
        "from sklearn.model_selection import train_test_split\n",
        "from sklearn.naive_bayes import GaussianNB\n",
        "from sklearn import metrics\n",
        "iris=load_iris()\n",
        "x_train,x_test,y_train,y_test=train_test_split(x,y,test_size=0.5)\n",
        "#create gaussian classifier\n",
        "g=GaussianNB()\n",
        "#train the model using dataset\n",
        "g.fit(x_train,y_train).predict(x_test) \n",
        "#predict the response\n",
        "y_predict=g.predict(x_test)\n",
        "print(\"Accuracy\",metrics.accuracy_score(y_test,y_predict))    "
      ]
    },
    {
      "cell_type": "code",
      "source": [
        "y_test"
      ],
      "metadata": {
        "colab": {
          "base_uri": "https://localhost:8080/"
        },
        "id": "6SgJyj9l4Xc7",
        "outputId": "6daaf3b0-57db-4bb8-c988-f4f7500cbf4a"
      },
      "execution_count": null,
      "outputs": [
        {
          "output_type": "execute_result",
          "data": {
            "text/plain": [
              "array([0, 2, 0, 1, 1, 0, 2, 2, 2, 1, 0, 0, 1, 0, 0, 2, 2, 1, 1, 1, 0, 2,\n",
              "       2, 2, 0, 0, 2, 1, 1, 1, 0, 1, 2, 2, 0, 0, 0, 2, 2, 1, 1, 0, 2, 0,\n",
              "       2, 1, 2, 2, 1, 1, 1, 0, 0, 1, 1, 2, 0, 1, 2, 2, 0, 2, 2, 1, 0, 1,\n",
              "       0, 2, 1, 2, 0, 2, 1, 0, 1])"
            ]
          },
          "metadata": {},
          "execution_count": 7
        }
      ]
    }
  ]
}