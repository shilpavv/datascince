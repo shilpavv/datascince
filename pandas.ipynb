{
  "nbformat": 4,
  "nbformat_minor": 0,
  "metadata": {
    "colab": {
      "name": "pandas.ipynb",
      "provenance": [],
      "authorship_tag": "ABX9TyNzA8IrxR4wNzfMJg+W7x9l",
      "include_colab_link": true
    },
    "kernelspec": {
      "name": "python3",
      "display_name": "Python 3"
    },
    "language_info": {
      "name": "python"
    }
  },
  "cells": [
    {
      "cell_type": "markdown",
      "metadata": {
        "id": "view-in-github",
        "colab_type": "text"
      },
      "source": [
        "<a href=\"https://colab.research.google.com/github/shilpavv/datascince/blob/master/pandas.ipynb\" target=\"_parent\"><img src=\"https://colab.research.google.com/assets/colab-badge.svg\" alt=\"Open In Colab\"/></a>"
      ]
    },
    {
      "cell_type": "code",
      "metadata": {
        "colab": {
          "base_uri": "https://localhost:8080/"
        },
        "id": "VNlAvOEwmlvZ",
        "outputId": "21a5d0d6-0223-46e2-9f37-fc200af78f02"
      },
      "source": [
        "import pandas as pd\n",
        "a=[2,4,6,8,10,12,14,16,18,20]\n",
        "var=pd.Series(a)\n",
        "print(var)\n",
        "b=[3,6,9,12,15,18,21,24,27,30]\n",
        "vari=pd.Series(b)\n",
        "print(vari)"
      ],
      "execution_count": null,
      "outputs": [
        {
          "output_type": "stream",
          "name": "stdout",
          "text": [
            "0     2\n",
            "1     4\n",
            "2     6\n",
            "3     8\n",
            "4    10\n",
            "5    12\n",
            "6    14\n",
            "7    16\n",
            "8    18\n",
            "9    20\n",
            "dtype: int64\n",
            "0     3\n",
            "1     6\n",
            "2     9\n",
            "3    12\n",
            "4    15\n",
            "5    18\n",
            "6    21\n",
            "7    24\n",
            "8    27\n",
            "9    30\n",
            "dtype: int64\n"
          ]
        }
      ]
    },
    {
      "cell_type": "code",
      "metadata": {
        "id": "Ogmk6FXPMdtg"
      },
      "source": [
        ""
      ],
      "execution_count": null,
      "outputs": []
    },
    {
      "cell_type": "code",
      "metadata": {
        "colab": {
          "base_uri": "https://localhost:8080/"
        },
        "id": "21hwJ0q4tG2E",
        "outputId": "6e7692b7-1c77-4d8d-bd15-6889c0a6c6b7"
      },
      "source": [
        "import pandas as pd\n",
        "a= pd.Series([2, 4, 6, 8, 10])\n",
        "b= pd.Series([1, 3, 5, 7, 9])\n",
        "c=a+b\n",
        "print(c)"
      ],
      "execution_count": null,
      "outputs": [
        {
          "output_type": "stream",
          "name": "stdout",
          "text": [
            "0     3\n",
            "1     7\n",
            "2    11\n",
            "3    15\n",
            "4    19\n",
            "dtype: int64\n"
          ]
        }
      ]
    },
    {
      "cell_type": "code",
      "metadata": {
        "colab": {
          "base_uri": "https://localhost:8080/"
        },
        "id": "gGclYfjy1KI1",
        "outputId": "ccea8c7d-9517-40e3-f4a0-dc10b182e1b2"
      },
      "source": [
        "a=pd.Series([10,2,4])\n",
        "print(a)\n",
        "print(a.loc[2])"
      ],
      "execution_count": null,
      "outputs": [
        {
          "output_type": "stream",
          "name": "stdout",
          "text": [
            "0    10\n",
            "1     2\n",
            "2     4\n",
            "dtype: int64\n",
            "4\n"
          ]
        }
      ]
    },
    {
      "cell_type": "code",
      "metadata": {
        "colab": {
          "base_uri": "https://localhost:8080/"
        },
        "id": "EQoOCEbutid4",
        "outputId": "005159bd-fbb9-4387-89f4-f602b4f38054"
      },
      "source": [
        "import pandas as pd\n",
        "var = pd.Series([15,20,30],index=[0,1,2])\n",
        "print(var)"
      ],
      "execution_count": null,
      "outputs": [
        {
          "output_type": "stream",
          "name": "stdout",
          "text": [
            "0    15\n",
            "1    20\n",
            "2    30\n",
            "dtype: int64\n"
          ]
        }
      ]
    },
    {
      "cell_type": "code",
      "metadata": {
        "colab": {
          "base_uri": "https://localhost:8080/"
        },
        "id": "IhSWiPUNqhPP",
        "outputId": "7cd61763-a063-4823-fdc0-a5cb48f2b2e0"
      },
      "source": [
        "import pandas as pd\n",
        "var = pd.Series([15,20,30],index=[\"MCA\", \"MBA\",\"MTECH\"])\n",
        "print(var)\n",
        "print(\"max value:\",var.max())\n",
        "print(\"min value:\",var.min())"
      ],
      "execution_count": null,
      "outputs": [
        {
          "output_type": "stream",
          "name": "stdout",
          "text": [
            "MCA      15\n",
            "MBA      20\n",
            "MTECH    30\n",
            "dtype: int64\n",
            "max value: 30\n",
            "min value: 15\n"
          ]
        }
      ]
    },
    {
      "cell_type": "code",
      "metadata": {
        "id": "EVxYH0skNCrO"
      },
      "source": [
        "#csv files upload and print\n",
        "import pandas as pd\n",
        "x=pd.read_csv('/content/data.csv')\n",
        "print(x.to_string())"
      ],
      "execution_count": null,
      "outputs": []
    },
    {
      "cell_type": "code",
      "metadata": {
        "id": "9TV9faPArrgy",
        "colab": {
          "base_uri": "https://localhost:8080/"
        },
        "outputId": "bf99c339-b67d-4c8b-abf9-fd2153e9c88f"
      },
      "source": [
        "#datagram\n",
        "import pandas as pd\n",
        "data = {\"percentage\":[90,80,70,60],\"grade\": [\"A\",\"B\",\"C\",\"D\"]}\n",
        "x= pd.DataFrame(data,index=[\"anju\",\"arya\",\"suray\",\"vidya\"])\n",
        "print(x)\n"
      ],
      "execution_count": null,
      "outputs": [
        {
          "output_type": "stream",
          "name": "stdout",
          "text": [
            "       percentage grade\n",
            "anju           90     A\n",
            "arya           80     B\n",
            "suray          70     C\n",
            "vidya          60     D\n"
          ]
        }
      ]
    },
    {
      "cell_type": "code",
      "metadata": {
        "colab": {
          "base_uri": "https://localhost:8080/"
        },
        "id": "SiJIJPySRWel",
        "outputId": "681204ab-023d-4161-a59e-8a653055ce3c"
      },
      "source": [
        "#head function\n",
        "import pandas as pd\n",
        "p=pd.read_csv('/content/data.csv')\n",
        "print(p.head())"
      ],
      "execution_count": null,
      "outputs": [
        {
          "output_type": "stream",
          "name": "stdout",
          "text": [
            "   Duration  Pulse  Maxpulse  Calories\n",
            "0        60    110       130     409.1\n",
            "1        60    117       145     479.0\n",
            "2        60    103       135     340.0\n",
            "3        45    109       175     282.4\n",
            "4        45    117       148     406.0\n"
          ]
        }
      ]
    },
    {
      "cell_type": "code",
      "metadata": {
        "colab": {
          "base_uri": "https://localhost:8080/"
        },
        "id": "gGlTQ4T0TSZN",
        "outputId": "e5d5c377-3489-4e21-82de-68391bb3da91"
      },
      "source": [
        "#tail function\n",
        "import pandas as pd\n",
        "p=pd.read_csv('/content/data.csv')\n",
        "print(p.tail())"
      ],
      "execution_count": null,
      "outputs": [
        {
          "output_type": "stream",
          "name": "stdout",
          "text": [
            "     Duration  Pulse  Maxpulse  Calories\n",
            "164        60    105       140     290.8\n",
            "165        60    110       145     300.0\n",
            "166        60    115       145     310.2\n",
            "167        75    120       150     320.4\n",
            "168        75    125       150     330.4\n"
          ]
        }
      ]
    },
    {
      "cell_type": "code",
      "metadata": {
        "colab": {
          "base_uri": "https://localhost:8080/"
        },
        "id": "qcnGc1VOVl44",
        "outputId": "f256a643-9419-40bf-d672-d964a1cb11e1"
      },
      "source": [
        "import pandas as pd\n",
        "x=pd.read_csv('/content/STUDENT - Sheet1.csv')\n",
        "print(x.to_string())"
      ],
      "execution_count": null,
      "outputs": [
        {
          "output_type": "stream",
          "name": "stdout",
          "text": [
            "     name  class  total mark\n",
            "0  Abhiha  MTECH         700\n",
            "1    Sree  BTECH         800\n",
            "2  shilpa    MCA         700\n",
            "3   vidya    NaN         900\n"
          ]
        }
      ]
    },
    {
      "cell_type": "code",
      "metadata": {
        "colab": {
          "base_uri": "https://localhost:8080/"
        },
        "id": "vzprQyH_V15q",
        "outputId": "ff1112d1-c20e-483c-db93-7dce4062447d"
      },
      "source": [
        "import pandas as pd\n",
        "x=pd.read_csv('/content/STUDENT - Sheet1.csv')\n",
        "print(x.to_string())\n",
        "print(\"head of the file\")\n",
        "print(x.head(2))"
      ],
      "execution_count": null,
      "outputs": [
        {
          "output_type": "stream",
          "name": "stdout",
          "text": [
            "     name  class  total mark\n",
            "0  Abhiha  MTECH         700\n",
            "1    Sree  BTECH         800\n",
            "2  shilpa    MCA         700\n",
            "3   vidya    NaN         900\n",
            "head of the file\n",
            "     name  class  total mark\n",
            "0  Abhiha  MTECH         700\n",
            "1    Sree  BTECH         800\n"
          ]
        }
      ]
    },
    {
      "cell_type": "code",
      "metadata": {
        "colab": {
          "base_uri": "https://localhost:8080/",
          "height": 230
        },
        "id": "_dnS38l3WpEd",
        "outputId": "6de62333-9dff-4796-ff9e-8c6c1ce1f02f"
      },
      "source": [
        "import pandas as pd\n",
        "x=pd.read_csv('/content/STUDENT - Sheet1.csv')\n",
        "print(x.to_string())\n",
        "x.drop_duplicates(\"total mark\")\n",
        "x.dropna()"
      ],
      "execution_count": null,
      "outputs": [
        {
          "output_type": "stream",
          "name": "stdout",
          "text": [
            "     name  class  total mark\n",
            "0  Abhiha  MTECH         700\n",
            "1    Sree  BTECH         800\n",
            "2  shilpa    MCA         700\n",
            "3   vidya    NaN         900\n"
          ]
        },
        {
          "output_type": "execute_result",
          "data": {
            "text/html": [
              "<div>\n",
              "<style scoped>\n",
              "    .dataframe tbody tr th:only-of-type {\n",
              "        vertical-align: middle;\n",
              "    }\n",
              "\n",
              "    .dataframe tbody tr th {\n",
              "        vertical-align: top;\n",
              "    }\n",
              "\n",
              "    .dataframe thead th {\n",
              "        text-align: right;\n",
              "    }\n",
              "</style>\n",
              "<table border=\"1\" class=\"dataframe\">\n",
              "  <thead>\n",
              "    <tr style=\"text-align: right;\">\n",
              "      <th></th>\n",
              "      <th>name</th>\n",
              "      <th>class</th>\n",
              "      <th>total mark</th>\n",
              "    </tr>\n",
              "  </thead>\n",
              "  <tbody>\n",
              "    <tr>\n",
              "      <th>0</th>\n",
              "      <td>Abhiha</td>\n",
              "      <td>MTECH</td>\n",
              "      <td>700</td>\n",
              "    </tr>\n",
              "    <tr>\n",
              "      <th>1</th>\n",
              "      <td>Sree</td>\n",
              "      <td>BTECH</td>\n",
              "      <td>800</td>\n",
              "    </tr>\n",
              "    <tr>\n",
              "      <th>2</th>\n",
              "      <td>shilpa</td>\n",
              "      <td>MCA</td>\n",
              "      <td>700</td>\n",
              "    </tr>\n",
              "  </tbody>\n",
              "</table>\n",
              "</div>"
            ],
            "text/plain": [
              "     name  class  total mark\n",
              "0  Abhiha  MTECH         700\n",
              "1    Sree  BTECH         800\n",
              "2  shilpa    MCA         700"
            ]
          },
          "metadata": {},
          "execution_count": 28
        }
      ]
    },
    {
      "cell_type": "code",
      "metadata": {
        "colab": {
          "base_uri": "https://localhost:8080/",
          "height": 168
        },
        "id": "VVyjdbd2X9vK",
        "outputId": "bfe4478a-f10e-4e27-8c24-cff2448d1dd5"
      },
      "source": [
        "import pandas as pd\n",
        "x=pd.read_csv('/content/STUDENT - Sheet1.csv')\n",
        "print(x.to_string())\n",
        "x.corr()"
      ],
      "execution_count": null,
      "outputs": [
        {
          "output_type": "stream",
          "name": "stdout",
          "text": [
            "     name  class  total mark\n",
            "0  Abhiha  MTECH         700\n",
            "1    Sree  BTECH         800\n",
            "2  shilpa    MCA         700\n",
            "3   vidya    NaN         900\n"
          ]
        },
        {
          "output_type": "execute_result",
          "data": {
            "text/html": [
              "<div>\n",
              "<style scoped>\n",
              "    .dataframe tbody tr th:only-of-type {\n",
              "        vertical-align: middle;\n",
              "    }\n",
              "\n",
              "    .dataframe tbody tr th {\n",
              "        vertical-align: top;\n",
              "    }\n",
              "\n",
              "    .dataframe thead th {\n",
              "        text-align: right;\n",
              "    }\n",
              "</style>\n",
              "<table border=\"1\" class=\"dataframe\">\n",
              "  <thead>\n",
              "    <tr style=\"text-align: right;\">\n",
              "      <th></th>\n",
              "      <th>total mark</th>\n",
              "    </tr>\n",
              "  </thead>\n",
              "  <tbody>\n",
              "    <tr>\n",
              "      <th>total mark</th>\n",
              "      <td>1.0</td>\n",
              "    </tr>\n",
              "  </tbody>\n",
              "</table>\n",
              "</div>"
            ],
            "text/plain": [
              "            total mark\n",
              "total mark         1.0"
            ]
          },
          "metadata": {},
          "execution_count": 29
        }
      ]
    },
    {
      "cell_type": "code",
      "metadata": {
        "colab": {
          "base_uri": "https://localhost:8080/"
        },
        "id": "qqzmWd-6XsgL",
        "outputId": "acf5d3f0-d0db-450b-9ccd-e7247d79b9e5"
      },
      "source": [
        "#SVD\n",
        "import numpy as np\n",
        "A=np.array([[1,2,3],[4,6,8],[3,6,5]])\n",
        "print(\"A:\",A)\n",
        "U,S,V=np.linalg.svd(A)\n",
        "print(\"U:\",U)\n",
        "print(\"S:\",S)\n",
        "print(\"V:\",V)\n",
        "A_remake=(U @ np.diag(S) @ V)\n",
        "print(A_remake)"
      ],
      "execution_count": null,
      "outputs": [
        {
          "output_type": "stream",
          "name": "stdout",
          "text": [
            "A: [[1 2 3]\n",
            " [4 6 8]\n",
            " [3 6 5]]\n",
            "U: [[-0.26277779 -0.32413598 -0.90878144]\n",
            " [-0.76423861 -0.50502463  0.40111029]\n",
            " [-0.58897129  0.79992874 -0.11500798]]\n",
            "S: [14.05603597  1.51200527  0.37642098]\n",
            "V: [[-0.3618834  -0.6150251  -0.70056015]\n",
            " [ 0.03674043  0.74150053 -0.6699456 ]\n",
            " [ 0.93149908 -0.26818107 -0.24574045]]\n",
            "[[1. 2. 3.]\n",
            " [4. 6. 8.]\n",
            " [3. 6. 5.]]\n"
          ]
        }
      ]
    },
    {
      "cell_type": "code",
      "metadata": {
        "colab": {
          "base_uri": "https://localhost:8080/"
        },
        "id": "8J0kIvHNcDqc",
        "outputId": "769c0ca1-820d-4c49-a3d6-9ff022c8b39e"
      },
      "source": [
        "#transpose of maatrix\n",
        "import numpy as np\n",
        "m=np.matrix('[1,4,6;2,4,1;4,8,8;5,3,0]')\n",
        "print(m)\n",
        "print(\"transpose of matrix\")\n",
        "print(m.transpose())"
      ],
      "execution_count": null,
      "outputs": [
        {
          "output_type": "stream",
          "name": "stdout",
          "text": [
            "[[1 4 6]\n",
            " [2 4 1]\n",
            " [4 8 8]\n",
            " [5 3 0]]\n",
            "transpose of matrix\n",
            "[[1 2 4 5]\n",
            " [4 4 8 3]\n",
            " [6 1 8 0]]\n"
          ]
        }
      ]
    }
  ]
}