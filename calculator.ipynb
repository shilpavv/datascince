{
  "nbformat": 4,
  "nbformat_minor": 0,
  "metadata": {
    "colab": {
      "name": "calculator.ipynb",
      "provenance": [],
      "authorship_tag": "ABX9TyPAzHkC2L4ZPyVjM8sJCwon",
      "include_colab_link": true
    },
    "kernelspec": {
      "name": "python3",
      "display_name": "Python 3"
    },
    "language_info": {
      "name": "python"
    }
  },
  "cells": [
    {
      "cell_type": "markdown",
      "metadata": {
        "id": "view-in-github",
        "colab_type": "text"
      },
      "source": [
        "<a href=\"https://colab.research.google.com/github/shilpavv/datascince/blob/master/calculator.ipynb\" target=\"_parent\"><img src=\"https://colab.research.google.com/assets/colab-badge.svg\" alt=\"Open In Colab\"/></a>"
      ]
    },
    {
      "cell_type": "code",
      "execution_count": 2,
      "metadata": {
        "colab": {
          "base_uri": "https://localhost:8080/"
        },
        "id": "N6eKNPmr_Klv",
        "outputId": "c1aabd19-e525-4c77-9253-7fb7a054f9d4"
      },
      "outputs": [
        {
          "output_type": "stream",
          "name": "stdout",
          "text": [
            "-------select operations---------\n",
            "1.add\n",
            "2.sub\n",
            "3.mul\n",
            "5.div\n",
            "enter choice(1/2/3/4):1\n",
            "enter first num:1\n",
            "enter second num:2\n",
            "1 + 2 = 3\n"
          ]
        }
      ],
      "source": [
        "def add(x,y):\n",
        "    return x+y\n",
        "def sub(x,y):\n",
        "    return x-y\n",
        "def mul(x,y):\n",
        "    return x*y\n",
        "def div(x,y):\n",
        "    return x/y\n",
        "print(\"-------select operations---------\")\n",
        "print(\"1.add\")\n",
        "print(\"2.sub\")\n",
        "print(\"3.mul\")\n",
        "print(\"5.div\")\n",
        "choice=input(\"enter choice(1/2/3/4):\")\n",
        "n1=int(input(\"enter first num:\"))\n",
        "n2=int(input(\"enter second num:\"))\n",
        "if choice == '1':\n",
        "    print(n1,\"+\",n2,\"=\",add(n1,n2))\n",
        "elif choice == '2':\n",
        "     print(n1,\"-\",n2,\"=\",add(n1,n2))\n",
        "elif choice == '3':\n",
        "      print(n1,\"-\",n2,\"=\",add(n1,n2))\n",
        "elif choice == '4':\n",
        "     print(n1,\"*\",n2,\"=\",add(n1,n2))\n",
        "elif choice == '5':\n",
        "    print(n1,\"/\",n2,\"=\",add(n1,n2))\n",
        "else:\n",
        "     print(\"invalid input\")\n"
      ]
    }
  ]
}