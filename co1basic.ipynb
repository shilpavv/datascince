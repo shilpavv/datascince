{
  "nbformat": 4,
  "nbformat_minor": 0,
  "metadata": {
    "colab": {
      "name": "co1basic.ipynb",
      "provenance": [],
      "authorship_tag": "ABX9TyPxwQHZW9HK+tHRrPa5CQD3",
      "include_colab_link": true
    },
    "kernelspec": {
      "name": "python3",
      "display_name": "Python 3"
    },
    "language_info": {
      "name": "python"
    }
  },
  "cells": [
    {
      "cell_type": "markdown",
      "metadata": {
        "id": "view-in-github",
        "colab_type": "text"
      },
      "source": [
        "<a href=\"https://colab.research.google.com/github/shilpavv/datascince/blob/master/co1basic.ipynb\" target=\"_parent\"><img src=\"https://colab.research.google.com/assets/colab-badge.svg\" alt=\"Open In Colab\"/></a>"
      ]
    },
    {
      "cell_type": "code",
      "metadata": {
        "colab": {
          "base_uri": "https://localhost:8080/"
        },
        "id": "kLXEHI2OhR1c",
        "outputId": "1e6e832b-c138-468f-a6c6-38df40fc5186"
      },
      "source": [
        "import numpy as np\n",
        "arr=np.array([1,2,3])\n",
        "print(\"array type\",type(arr))\n",
        "print(\"list\",arr)\n",
        "a=np.array([1])\n",
        "print(\"1-D\",a)\n",
        "a.ndim\n",
        "a1=np.array((\"apple\", \"banana\", \"cherry\"))\n",
        "print(\"tuple\",a1)\n",
        "a2=np.array([[1,2,3],[4,5,6]])\n",
        "print(\"2-D\",a2)\n",
        "print(\"shape\",a2.shape)\n",
        "a2.shape=3,2\n",
        "print(a2)"
      ],
      "execution_count": null,
      "outputs": [
        {
          "output_type": "stream",
          "name": "stdout",
          "text": [
            "array type <class 'numpy.ndarray'>\n",
            "list [1 2 3]\n",
            "1-D [1]\n",
            "tuple ['apple' 'banana' 'cherry']\n",
            "2-D [[1 2 3]\n",
            " [4 5 6]]\n",
            "shape (2, 3)\n",
            "[[1 2]\n",
            " [3 4]\n",
            " [5 6]]\n"
          ]
        }
      ]
    },
    {
      "cell_type": "code",
      "metadata": {
        "colab": {
          "base_uri": "https://localhost:8080/"
        },
        "id": "CPkk-AB9utbG",
        "outputId": "4bfa0c58-aca9-4e76-e910-8c98ad77048f"
      },
      "source": [
        "a2=np.array([1,2,3,4,5,6])\n",
        "a2.resize(3,4)\n",
        "print(a2)\n"
      ],
      "execution_count": null,
      "outputs": [
        {
          "output_type": "stream",
          "name": "stdout",
          "text": [
            "[[1 2 3 4]\n",
            " [5 6 0 0]\n",
            " [0 0 0 0]]\n"
          ]
        }
      ]
    },
    {
      "cell_type": "code",
      "metadata": {
        "colab": {
          "base_uri": "https://localhost:8080/"
        },
        "id": "hT9OlOBv2Cm_",
        "outputId": "40ed82ea-2e2a-42c5-f960-40e0865d5b1a"
      },
      "source": [
        "from numpy import random\n",
        "\n",
        "x = random.randint(100)\n",
        "\n",
        "print(x)"
      ],
      "execution_count": null,
      "outputs": [
        {
          "output_type": "stream",
          "name": "stdout",
          "text": [
            "40\n"
          ]
        }
      ]
    },
    {
      "cell_type": "code",
      "metadata": {
        "colab": {
          "base_uri": "https://localhost:8080/"
        },
        "id": "4wRvqBuYwahS",
        "outputId": "93fdf5ee-6fa3-4d37-d356-376ca8c5acea"
      },
      "source": [
        "a2=np.array([1,2,3,4,5,6,7,8])\n",
        "print(a2.reshape(2,4))\n"
      ],
      "execution_count": null,
      "outputs": [
        {
          "output_type": "stream",
          "name": "stdout",
          "text": [
            "[[1 2 3 4]\n",
            " [5 6 7 8]]\n"
          ]
        }
      ]
    },
    {
      "cell_type": "code",
      "metadata": {
        "colab": {
          "base_uri": "https://localhost:8080/"
        },
        "id": "pbqF-ylsot_e",
        "outputId": "07aff437-6d90-492a-e36c-3625b447cfe1"
      },
      "source": [
        "a = np.zeros(3,dtype = int)\n",
        "print(\"Matrix a\", a)"
      ],
      "execution_count": null,
      "outputs": [
        {
          "output_type": "stream",
          "name": "stdout",
          "text": [
            "Matrix a [0 0 0]\n"
          ]
        }
      ]
    },
    {
      "cell_type": "code",
      "metadata": {
        "colab": {
          "base_uri": "https://localhost:8080/"
        },
        "id": "J6WX2jIJqd1d",
        "outputId": "34c9e68c-ac9d-4fe4-95b1-7d91ba928c3b"
      },
      "source": [
        "a = np.ones(3,dtype = int)\n",
        "print(\"Matrix a\", a)"
      ],
      "execution_count": null,
      "outputs": [
        {
          "output_type": "stream",
          "name": "stdout",
          "text": [
            "Matrix a [1 1 1]\n"
          ]
        }
      ]
    },
    {
      "cell_type": "code",
      "metadata": {
        "colab": {
          "base_uri": "https://localhost:8080/"
        },
        "id": "HsdJnwbmqzOx",
        "outputId": "09ecd9d2-0bd9-423b-a0a9-6127c183bb92"
      },
      "source": [
        "a = np.eye(3,dtype = int)\n",
        "print(\"Matrix a\", a)"
      ],
      "execution_count": null,
      "outputs": [
        {
          "output_type": "stream",
          "name": "stdout",
          "text": [
            "Matrix a [[1 0 0]\n",
            " [0 1 0]\n",
            " [0 0 1]]\n"
          ]
        }
      ]
    },
    {
      "cell_type": "code",
      "metadata": {
        "colab": {
          "base_uri": "https://localhost:8080/"
        },
        "id": "DAGSYWT3rMUc",
        "outputId": "b1125e94-b087-4414-d564-dafa782380e4"
      },
      "source": [
        "a = np.arange(0,11)\n",
        "print(\"range\",a)\n"
      ],
      "execution_count": null,
      "outputs": [
        {
          "output_type": "stream",
          "name": "stdout",
          "text": [
            "range [ 0  1  2  3  4  5  6  7  8  9 10]\n"
          ]
        }
      ]
    },
    {
      "cell_type": "code",
      "metadata": {
        "colab": {
          "base_uri": "https://localhost:8080/"
        },
        "id": "xhH2BiY_riMS",
        "outputId": "c838f001-7237-484b-840d-1998443ac451"
      },
      "source": [
        "a=np.array([2,3])\n",
        "b=np.array([4,5])\n",
        "print(\"add\",np.add(a,b))\n",
        "print(\"subtract\",np.subtract(a,b))\n",
        "print(\"subtract\",np.subtract(b,a))\n",
        "print(\"square\",np.power(a,2))"
      ],
      "execution_count": null,
      "outputs": [
        {
          "output_type": "stream",
          "name": "stdout",
          "text": [
            "add [6 8]\n",
            "subtract [-2 -2]\n",
            "subtract [2 2]\n",
            "square [4 9]\n"
          ]
        }
      ]
    }
  ]
}